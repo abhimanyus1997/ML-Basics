{
 "cells": [
  {
   "cell_type": "markdown",
   "metadata": {},
   "source": [
    "# Basics of NLP (Natural Language Processing)"
   ]
  },
  {
   "cell_type": "markdown",
   "metadata": {},
   "source": [
    "* Tasks in NLP:\n",
    "    - translation, \n",
    "    - automatic summarization, \n",
    "    - Named Entity Recognition (NER), \n",
    "    - speech recognition, \n",
    "    - relationship extraction, and \n",
    "    - topic segmentation."
   ]
  },
  {
   "cell_type": "markdown",
   "metadata": {},
   "source": [
    "**Steps in NLP Pipeline:**   \n",
    "1. Sentence Segementation  \n",
    "2. Word Tokenization  \n",
    "3. Stemming  \n",
    "4. Lemmatization  \n",
    "5. Identify Stop Words  \n",
    "6. Dependency Parsing  \n",
    "7. POS (Part of Speech) Tagging  \n",
    "8. Named Entity Recognition (NER)  \n",
    "9. Chunking  "
   ]
  },
  {
   "cell_type": "markdown",
   "metadata": {},
   "source": [
    "Difficulties in NLP:\n",
    " * Ambiguity\n",
    "    * Lexical Ambiguity : noun adj or verb\n",
    "    * Syntactic Ambiguity\n",
    "    * Referential Ambiguity\n",
    " * Lack of Context\n",
    " * Named Entity Recognition (NER):\n"
   ]
  },
  {
   "cell_type": "code",
   "execution_count": 1,
   "metadata": {},
   "outputs": [
    {
     "name": "stderr",
     "output_type": "stream",
     "text": [
      "c:\\Users\\abhim\\miniforge3\\envs\\pytorch\\lib\\site-packages\\numpy\\_distributor_init.py:30: UserWarning: loaded more than 1 DLL from .libs:\n",
      "c:\\Users\\abhim\\miniforge3\\envs\\pytorch\\lib\\site-packages\\numpy\\.libs\\libopenblas64__v0.3.21-gcc_10_3_0.dll\n",
      "c:\\Users\\abhim\\miniforge3\\envs\\pytorch\\lib\\site-packages\\numpy\\.libs\\libopenblas64__v0.3.23-246-g3d31191b-gcc_10_3_0.dll\n",
      "  warnings.warn(\"loaded more than 1 DLL from .libs:\"\n"
     ]
    }
   ],
   "source": [
    "import nltk\n",
    "import warnings\n",
    "\n",
    "# nltk.download(all)"
   ]
  },
  {
   "cell_type": "markdown",
   "metadata": {},
   "source": [
    "## Tokenization"
   ]
  },
  {
   "cell_type": "markdown",
   "metadata": {},
   "source": [
    "Splits text by word/sentence"
   ]
  },
  {
   "cell_type": "markdown",
   "metadata": {},
   "source": [
    "```python\n",
    " from nltk.tokenize import sent_tokenize, word_tokenize\n",
    "```"
   ]
  },
  {
   "cell_type": "code",
   "execution_count": 2,
   "metadata": {},
   "outputs": [],
   "source": [
    "from nltk.tokenize import sent_tokenize, word_tokenize\n",
    "\n",
    "example_string = \"\"\"\n",
    "Natural language processing (NLP) is a field of computer science that deals with the interaction between computers and human (natural) languages. It's a subfield of artificial intelligence that deals with the ability of computers to understand and process human language, including speech and text.\n",
    "NLP has many applications, including machine translation, speech recognition, text analysis, and question answering. It's used in a variety of industries, including healthcare, finance, and customer service.\n",
    "One of the most important tasks in NLP is to understand the meaning of text. This can be challenging because words can have multiple meanings, and the meaning of a sentence can depend on the context in which it's used. NLP systems use a variety of techniques to understand meaning, including詞法分析, 語法分析, and 語義分析.\n",
    "Another important task in NLP is to generate text. This can be challenging because it requires the system to understand the meaning of the text it's generating and to be able to express that meaning in a way that is both grammatically correct and fluent. NLP systems use a variety of techniques to generate text, including machine translation, text summarization, and question answering.\n",
    "NLP is a rapidly growing field, and it's having a major impact on the way we interact with computers. As NLP systems become more sophisticated, they'll be able to understand and process human language in ways that are currently unimaginable. This will lead to new and innovative applications in a variety of industries.\n",
    "\"\"\""
   ]
  },
  {
   "cell_type": "code",
   "execution_count": 3,
   "metadata": {},
   "outputs": [
    {
     "data": {
      "text/plain": [
       "['\\nNatural language processing (NLP) is a field of computer science that deals with the interaction between computers and human (natural) languages.',\n",
       " \"It's a subfield of artificial intelligence that deals with the ability of computers to understand and process human language, including speech and text.\",\n",
       " 'NLP has many applications, including machine translation, speech recognition, text analysis, and question answering.',\n",
       " \"It's used in a variety of industries, including healthcare, finance, and customer service.\",\n",
       " 'One of the most important tasks in NLP is to understand the meaning of text.',\n",
       " \"This can be challenging because words can have multiple meanings, and the meaning of a sentence can depend on the context in which it's used.\",\n",
       " 'NLP systems use a variety of techniques to understand meaning, including詞法分析, 語法分析, and 語義分析.',\n",
       " 'Another important task in NLP is to generate text.',\n",
       " \"This can be challenging because it requires the system to understand the meaning of the text it's generating and to be able to express that meaning in a way that is both grammatically correct and fluent.\",\n",
       " 'NLP systems use a variety of techniques to generate text, including machine translation, text summarization, and question answering.',\n",
       " \"NLP is a rapidly growing field, and it's having a major impact on the way we interact with computers.\",\n",
       " \"As NLP systems become more sophisticated, they'll be able to understand and process human language in ways that are currently unimaginable.\",\n",
       " 'This will lead to new and innovative applications in a variety of industries.']"
      ]
     },
     "execution_count": 3,
     "metadata": {},
     "output_type": "execute_result"
    }
   ],
   "source": [
    "# Sentence tokenizer\n",
    "sent_tokenize(example_string)"
   ]
  },
  {
   "cell_type": "code",
   "execution_count": 4,
   "metadata": {},
   "outputs": [
    {
     "data": {
      "text/plain": [
       "['Natural',\n",
       " 'language',\n",
       " 'processing',\n",
       " '(',\n",
       " 'NLP',\n",
       " ')',\n",
       " 'is',\n",
       " 'a',\n",
       " 'field',\n",
       " 'of',\n",
       " 'computer',\n",
       " 'science',\n",
       " 'that',\n",
       " 'deals',\n",
       " 'with',\n",
       " 'the',\n",
       " 'interaction',\n",
       " 'between',\n",
       " 'computers',\n",
       " 'and',\n",
       " 'human',\n",
       " '(',\n",
       " 'natural',\n",
       " ')',\n",
       " 'languages',\n",
       " '.',\n",
       " 'It',\n",
       " \"'s\",\n",
       " 'a',\n",
       " 'subfield',\n",
       " 'of',\n",
       " 'artificial',\n",
       " 'intelligence',\n",
       " 'that',\n",
       " 'deals',\n",
       " 'with',\n",
       " 'the',\n",
       " 'ability',\n",
       " 'of',\n",
       " 'computers',\n",
       " 'to',\n",
       " 'understand',\n",
       " 'and',\n",
       " 'process',\n",
       " 'human',\n",
       " 'language',\n",
       " ',',\n",
       " 'including',\n",
       " 'speech',\n",
       " 'and']"
      ]
     },
     "execution_count": 4,
     "metadata": {},
     "output_type": "execute_result"
    }
   ],
   "source": [
    "# Word Tokenizer\n",
    "word_tokenize(example_string)[:50] # Prinying first 50 only"
   ]
  },
  {
   "cell_type": "markdown",
   "metadata": {},
   "source": [
    "## Stopwords"
   ]
  },
  {
   "cell_type": "markdown",
   "metadata": {},
   "source": [
    "Words that you want to ignore ex comman words like 'is', 'an', 'the' etc. as they are not that meaningful in some tasks"
   ]
  },
  {
   "cell_type": "code",
   "execution_count": 5,
   "metadata": {},
   "outputs": [
    {
     "name": "stderr",
     "output_type": "stream",
     "text": [
      "[nltk_data] Downloading package stopwords to\n",
      "[nltk_data]     C:\\Users\\abhim\\AppData\\Roaming\\nltk_data...\n",
      "[nltk_data]   Package stopwords is already up-to-date!\n"
     ]
    }
   ],
   "source": [
    "nltk.download(\"stopwords\")\n",
    "from nltk.corpus import stopwords"
   ]
  },
  {
   "cell_type": "code",
   "execution_count": 6,
   "metadata": {},
   "outputs": [
    {
     "name": "stdout",
     "output_type": "stream",
     "text": [
      "['It', 'is', 'better', 'to', 'die', 'than', 'to', 'preserve', 'this', 'life', 'by', 'incurring', 'disgrace', '.', 'The', 'loss', 'of', 'life', 'causes', 'but', 'a', 'moment', \"'s\", 'grief', ',', 'but', 'disgrace', 'brings', 'grief', 'every', 'day', 'of', 'one', \"'s\", 'life', '.']\n"
     ]
    }
   ],
   "source": [
    "chankya_quote = \"It is better to die than to preserve this life by incurring disgrace. The loss of life causes but a moment's grief, but disgrace brings grief every day of one's life.\"\n",
    "words_in_quote = word_tokenize(chankya_quote)\n",
    "print(words_in_quote)"
   ]
  },
  {
   "cell_type": "code",
   "execution_count": 7,
   "metadata": {},
   "outputs": [],
   "source": [
    "# Creating a set of stopwords in english\n",
    "stop_words = set(stopwords.words(\"english\"))"
   ]
  },
  {
   "cell_type": "code",
   "execution_count": 8,
   "metadata": {},
   "outputs": [
    {
     "name": "stdout",
     "output_type": "stream",
     "text": [
      "['better', 'die', 'preserve', 'life', 'incurring', 'disgrace', '.', 'loss', 'life', 'causes', 'moment', \"'s\", 'grief', ',', 'disgrace', 'brings', 'grief', 'every', 'day', 'one', \"'s\", 'life', '.']\n"
     ]
    }
   ],
   "source": [
    "# METHOD 1 To FILTER\n",
    "filtered_list = [] # Holds non-stopwords\n",
    "for word in words_in_quote:\n",
    "   if word.casefold() not in stop_words: #casefold() ignores the case\n",
    "       filtered_list.append(word)\n",
    "\n",
    "print(filtered_list)"
   ]
  },
  {
   "cell_type": "code",
   "execution_count": 9,
   "metadata": {},
   "outputs": [
    {
     "name": "stdout",
     "output_type": "stream",
     "text": [
      "['better', 'die', 'preserve', 'life', 'incurring', 'disgrace', '.', 'loss', 'life', 'causes', 'moment', \"'s\", 'grief', ',', 'disgrace', 'brings', 'grief', 'every', 'day', 'one', \"'s\", 'life', '.']\n"
     ]
    }
   ],
   "source": [
    "# METHOD 2 : List Comprehesion filter out stopword\n",
    "filtered_list = [\n",
    "    word for word in words_in_quote if word.casefold() not in stop_words\n",
    "]\n",
    "print(filtered_list)"
   ]
  },
  {
   "cell_type": "markdown",
   "metadata": {},
   "source": [
    "## Stemming and Lemmatization"
   ]
  },
  {
   "cell_type": "markdown",
   "metadata": {},
   "source": [
    "### Stemming"
   ]
  },
  {
   "cell_type": "markdown",
   "metadata": {},
   "source": [
    "Stemming is a task to reduce the word to root word"
   ]
  },
  {
   "cell_type": "markdown",
   "metadata": {},
   "source": [
    "Some stemmer available in nltk are:\n",
    "* Porter stemmer\n",
    "* Snowball stemmer\n",
    "* ARLSTem Stemmer"
   ]
  },
  {
   "cell_type": "code",
   "execution_count": 10,
   "metadata": {},
   "outputs": [],
   "source": [
    "# Porter Stemmer in NLTK\n",
    "from nltk.stem import PorterStemmer\n",
    "stemmer = PorterStemmer()"
   ]
  },
  {
   "cell_type": "code",
   "execution_count": 11,
   "metadata": {},
   "outputs": [
    {
     "name": "stdout",
     "output_type": "stream",
     "text": [
      "['it', 'is', 'better', 'to', 'die', 'than', 'to', 'preserv', 'thi', 'life', 'by', 'incur', 'disgrac', '.', 'the', 'loss', 'of', 'life', 'caus', 'but', 'a', 'moment', \"'s\", 'grief', ',', 'but', 'disgrac', 'bring', 'grief', 'everi', 'day', 'of', 'one', \"'s\", 'life', '.']\n"
     ]
    }
   ],
   "source": [
    "stemmed_words = [stemmer.stem(word) for word in words_in_quote]\n",
    "print(stemmed_words)"
   ]
  },
  {
   "cell_type": "markdown",
   "metadata": {},
   "source": [
    "#### Problem with stemmer"
   ]
  },
  {
   "cell_type": "markdown",
   "metadata": {},
   "source": [
    "Understemming and overstemming are two ways stemming can go wrong:\n",
    "\n",
    "1. **Understemming** happens when two related words should be reduced to the same stem but aren’t. This is a false negative.\n",
    "\n",
    "1. **Overstemming** happens when two unrelated words are reduced to the same stem even though they shouldn’t be. This is a false positive."
   ]
  },
  {
   "cell_type": "markdown",
   "metadata": {},
   "source": [
    "#### Snowball Stemmer (Porter2)"
   ]
  },
  {
   "cell_type": "markdown",
   "metadata": {},
   "source": [
    "Few Rules:  \n",
    "* ILY  -----> ILI  \n",
    "* LY   ----->   \n",
    "* SS   -----> SS  \n",
    "* S    ----->   \n",
    "* ED   -----> E,Nil  "
   ]
  },
  {
   "cell_type": "code",
   "execution_count": 12,
   "metadata": {},
   "outputs": [
    {
     "name": "stdout",
     "output_type": "stream",
     "text": [
      "['it', 'is', 'better', 'to', 'die', 'than', 'to', 'preserv', 'this', 'life', 'by', 'incur', 'disgrac', '.', 'the', 'loss', 'of', 'life', 'caus', 'but', 'a', 'moment', \"'s\", 'grief', ',', 'but', 'disgrac', 'bring', 'grief', 'everi', 'day', 'of', 'one', \"'s\", 'life', '.']\n"
     ]
    }
   ],
   "source": [
    "from nltk.stem.snowball import SnowballStemmer\n",
    "snow_stemmer = SnowballStemmer(language='english')\n",
    "\n",
    "stemmed_words = [snow_stemmer.stem(word) for word in words_in_quote]\n",
    "print(stemmed_words)"
   ]
  },
  {
   "cell_type": "markdown",
   "metadata": {},
   "source": [
    "### Lemmatizing"
   ]
  },
  {
   "cell_type": "markdown",
   "metadata": {},
   "source": [
    "A **lemma** is a word that represents a whole group of words, and that group of words is called a **lexeme**."
   ]
  },
  {
   "cell_type": "markdown",
   "metadata": {},
   "source": [
    "Lemmatizing reduces words to their core meaning, but it will give you a complete English word that makes sense on its own instead of just a fragment of a word like 'discoveri'."
   ]
  },
  {
   "cell_type": "code",
   "execution_count": 13,
   "metadata": {},
   "outputs": [],
   "source": [
    "from nltk.stem import WordNetLemmatizer\n",
    "lemmatizer = WordNetLemmatizer()"
   ]
  },
  {
   "cell_type": "code",
   "execution_count": 14,
   "metadata": {},
   "outputs": [
    {
     "data": {
      "text/plain": [
       "'scarf'"
      ]
     },
     "execution_count": 14,
     "metadata": {},
     "output_type": "execute_result"
    }
   ],
   "source": [
    "lemmatizer.lemmatize(\"scarves\")"
   ]
  },
  {
   "cell_type": "code",
   "execution_count": 15,
   "metadata": {},
   "outputs": [
    {
     "name": "stdout",
     "output_type": "stream",
     "text": [
      "['The', 'friend', 'of', 'DeSoto', 'love', 'scarf', '.']\n"
     ]
    }
   ],
   "source": [
    "string_for_lemmatizing = \"The friends of DeSoto love scarves.\"\n",
    "words = word_tokenize(string_for_lemmatizing)\n",
    "lemmatized_words = [lemmatizer.lemmatize(word) for word in words]\n",
    "print(lemmatized_words)"
   ]
  },
  {
   "cell_type": "markdown",
   "metadata": {},
   "source": [
    "## Part of Speech (POS) tagging"
   ]
  },
  {
   "cell_type": "markdown",
   "metadata": {},
   "source": [
    "labelling word according to part of speech"
   ]
  },
  {
   "cell_type": "code",
   "execution_count": 16,
   "metadata": {},
   "outputs": [
    {
     "name": "stderr",
     "output_type": "stream",
     "text": [
      "[nltk_data] Downloading package averaged_perceptron_tagger to\n",
      "[nltk_data]     C:\\Users\\abhim\\AppData\\Roaming\\nltk_data...\n",
      "[nltk_data]   Package averaged_perceptron_tagger is already up-to-\n",
      "[nltk_data]       date!\n"
     ]
    },
    {
     "data": {
      "text/plain": [
       "[('It', 'PRP'),\n",
       " ('is', 'VBZ'),\n",
       " ('better', 'RBR'),\n",
       " ('to', 'TO'),\n",
       " ('die', 'VB'),\n",
       " ('than', 'IN'),\n",
       " ('to', 'TO'),\n",
       " ('preserve', 'VB'),\n",
       " ('this', 'DT'),\n",
       " ('life', 'NN'),\n",
       " ('by', 'IN'),\n",
       " ('incurring', 'VBG'),\n",
       " ('disgrace', 'NN'),\n",
       " ('.', '.'),\n",
       " ('The', 'DT'),\n",
       " ('loss', 'NN'),\n",
       " ('of', 'IN'),\n",
       " ('life', 'NN'),\n",
       " ('causes', 'NNS'),\n",
       " ('but', 'CC'),\n",
       " ('a', 'DT'),\n",
       " ('moment', 'NN'),\n",
       " (\"'s\", 'POS'),\n",
       " ('grief', 'NN'),\n",
       " (',', ','),\n",
       " ('but', 'CC'),\n",
       " ('disgrace', 'VBP'),\n",
       " ('brings', 'NNS'),\n",
       " ('grief', 'JJ'),\n",
       " ('every', 'DT'),\n",
       " ('day', 'NN'),\n",
       " ('of', 'IN'),\n",
       " ('one', 'CD'),\n",
       " (\"'s\", 'POS'),\n",
       " ('life', 'NN'),\n",
       " ('.', '.')]"
      ]
     },
     "execution_count": 16,
     "metadata": {},
     "output_type": "execute_result"
    }
   ],
   "source": [
    "nltk.download('averaged_perceptron_tagger')\n",
    "nltk.pos_tag(words_in_quote)"
   ]
  },
  {
   "cell_type": "markdown",
   "metadata": {},
   "source": [
    "POS List:\n",
    "\n",
    "* CC: It is the conjunction of coordinating\n",
    "* CD: It is a digit of cardinal\n",
    "* DT: It is the determiner\n",
    "* EX: Existential\n",
    "* FW: It is a foreign word\n",
    "* IN: Preposition and conjunction\n",
    "* JJ: Adjective\n",
    "* JJR and JJS: Adjective and superlative\n",
    "* LS: List marker\n",
    "* MD: Modal\n",
    "* NN: Singular noun\n",
    "* NNS, NNP, NNPS: Proper and plural noun\n",
    "* PDT: Predeterminer\n",
    "* WRB: Adverb of wh\n",
    "* WP$: Possessive wh\n",
    "* WP: Pronoun of wh\n",
    "* WDT: Determiner of wp\n",
    "* VBZ: Verb\n",
    "* VBP, VBN, VBG, VBD, VB: Forms of verbs\n",
    "* UH: Interjection\n",
    "* TO: To go\n",
    "* RP: Particle\n",
    "* RBS, RB, RBR: Adverb\n",
    "* PRP, PRP$: Pronoun personal and professional"
   ]
  },
  {
   "cell_type": "markdown",
   "metadata": {},
   "source": [
    "> To change the POS in lemmetizer use ```lemmatizer.lemmatize(\"worst\", pos=\"a\")```"
   ]
  },
  {
   "cell_type": "markdown",
   "metadata": {},
   "source": [
    "## Chunking"
   ]
  },
  {
   "cell_type": "markdown",
   "metadata": {},
   "source": [
    "Allows to identify the phrases"
   ]
  },
  {
   "cell_type": "markdown",
   "metadata": {},
   "source": [
    "Two Types of Chunking Available\n",
    " * Chunking Up : gives brief idea\n",
    " * Chunking Down : gives detailed info"
   ]
  },
  {
   "cell_type": "markdown",
   "metadata": {},
   "source": [
    "Group of words make up phrases and there are five major categories.\n",
    "  - Noun Phrase (NP)\n",
    "  - Verb phrase (VP)\n",
    "  - Adjective phrase (ADJP)\n",
    "  - Adverb phrase (ADVP)\n",
    "  - Prepositional phrase (PP)"
   ]
  },
  {
   "cell_type": "markdown",
   "metadata": {},
   "source": [
    "A **chunk grammar** is a combination of rules on how sentences should be chunked. It often uses regular expressions, or regexes.  \n",
    " ex:   \n",
    " - Noun Phrase Chunking - [NP-Chunking](https://www.nltk.org/book/ch07.html#noun-phrase-chunking)"
   ]
  },
  {
   "cell_type": "code",
   "execution_count": 17,
   "metadata": {},
   "outputs": [
    {
     "name": "stderr",
     "output_type": "stream",
     "text": [
      "[nltk_data] Downloading package averaged_perceptron_tagger to\n",
      "[nltk_data]     C:\\Users\\abhim\\AppData\\Roaming\\nltk_data...\n",
      "[nltk_data]   Package averaged_perceptron_tagger is already up-to-\n",
      "[nltk_data]       date!\n"
     ]
    }
   ],
   "source": [
    "from nltk.chunk import RegexpParser\n",
    "\n",
    "lotr_quote = \"It's a dangerous business, Frodo, going out your door.\"\n",
    "\n",
    "# Step 1 : Tokenization by Words\n",
    "words_in_lotr_quote = word_tokenize(lotr_quote)\n",
    "\n",
    "# Step 2 : POS Tagging of Words\n",
    "nltk.download(\"averaged_perceptron_tagger\")\n",
    "lotr_pos_tags = nltk.pos_tag(words_in_lotr_quote)\n",
    "\n",
    "# Step 3: Define Chunk Grammer\n",
    "# NP: {<DT>?<JJ>*<NN>}\n",
    "# This grammar identifies noun phrases (NP) consisting of optional determiners,\n",
    "# followed by zero or more adjectives, and ending with a singular noun.\n",
    "# Example: \"the big brown dog\"\n",
    "grammar = \"NP: {<DT>?<JJ>*<NN.*>+}\"\n",
    "\n",
    "# Step 4:  Create Chunk Parser using grammar\n",
    "chunk_parser = RegexpParser(grammar)"
   ]
  },
  {
   "cell_type": "markdown",
   "metadata": {},
   "source": [
    "#### Regexp Cheatsheet"
   ]
  },
  {
   "attachments": {
    "image.png": {
     "image/png": "[encoded data removed]"
    }
   },
   "cell_type": "markdown",
   "metadata": {},
   "source": [
    "![image.png](attachment:image.png)"
   ]
  },
  {
   "attachments": {
    "image.png": {
     "image/png": "[encoded data removed]"
    }
   },
   "cell_type": "markdown",
   "metadata": {},
   "source": [
    "![image.png](attachment:image.png)"
   ]
  },
  {
   "cell_type": "markdown",
   "metadata": {},
   "source": [
    "#### Checking Chunking"
   ]
  },
  {
   "cell_type": "markdown",
   "metadata": {},
   "source": [
    "*Rule above used for NP (Noun Phrase Chuncking)*\n",
    "- Starts with an optional determiner ('DT') indicated by '?'.\n",
    "- Followed by any number ('*') of adjectives ('JJ').\n",
    "- Ends with a singular noun ('NN')."
   ]
  },
  {
   "cell_type": "code",
   "execution_count": 18,
   "metadata": {},
   "outputs": [],
   "source": [
    "# Step 5 : Trying Your Quote with visual respresention\n",
    "chucked = chunk_parser.parse(lotr_pos_tags)"
   ]
  },
  {
   "cell_type": "code",
   "execution_count": 25,
   "metadata": {},
   "outputs": [
    {
     "name": "stdout",
     "output_type": "stream",
     "text": [
      "Requirement already satisfied: svgling in c:\\users\\abhim\\miniforge3\\envs\\pytorch\\lib\\site-packages (0.4.0)\n",
      "Requirement already satisfied: svgwrite in c:\\users\\abhim\\miniforge3\\envs\\pytorch\\lib\\site-packages (from svgling) (1.4.3)\n",
      "Note: you may need to restart the kernel to use updated packages.\n"
     ]
    }
   ],
   "source": [
    "%pip install svgling"
   ]
  },
  {
   "cell_type": "code",
   "execution_count": 26,
   "metadata": {},
   "outputs": [
    {
     "data": {
      "image/svg+xml": [
       "<svg baseProfile=\"full\" height=\"120px\" preserveAspectRatio=\"xMidYMid meet\" style=\"font-family: times, serif; font-weight: normal; font-style: normal; font-size: 16px;\" version=\"1.1\" viewBox=\"0,0,200.0,120.0\" width=\"200px\" xmlns=\"http://www.w3.org/2000/svg\" xmlns:ev=\"http://www.w3.org/2001/xml-events\" xmlns:xlink=\"http://www.w3.org/1999/xlink\"><defs /><svg width=\"100%\" x=\"0\" y=\"0px\"><defs /><text text-anchor=\"middle\" x=\"50%\" y=\"16px\">NP</text></svg><svg width=\"16%\" x=\"0%\" y=\"48px\"><defs /><svg width=\"100%\" x=\"0\" y=\"0px\"><defs /><text text-anchor=\"middle\" x=\"50%\" y=\"16px\">a</text></svg><svg width=\"100%\" x=\"0%\" y=\"48px\"><defs /><svg width=\"100%\" x=\"0\" y=\"0px\"><defs /><text text-anchor=\"middle\" x=\"50%\" y=\"16px\">DT</text></svg></svg><line stroke=\"black\" x1=\"50%\" x2=\"50%\" y1=\"19.2px\" y2=\"48px\" /></svg><line stroke=\"black\" x1=\"50%\" x2=\"8%\" y1=\"19.2px\" y2=\"48px\" /><svg width=\"44%\" x=\"16%\" y=\"48px\"><defs /><svg width=\"100%\" x=\"0\" y=\"0px\"><defs /><text text-anchor=\"middle\" x=\"50%\" y=\"16px\">dangerous</text></svg><svg width=\"100%\" x=\"0%\" y=\"48px\"><defs /><svg width=\"100%\" x=\"0\" y=\"0px\"><defs /><text text-anchor=\"middle\" x=\"50%\" y=\"16px\">JJ</text></svg></svg><line stroke=\"black\" x1=\"50%\" x2=\"50%\" y1=\"19.2px\" y2=\"48px\" /></svg><line stroke=\"black\" x1=\"50%\" x2=\"38%\" y1=\"19.2px\" y2=\"48px\" /><svg width=\"40%\" x=\"60%\" y=\"48px\"><defs /><svg width=\"100%\" x=\"0\" y=\"0px\"><defs /><text text-anchor=\"middle\" x=\"50%\" y=\"16px\">business</text></svg><svg width=\"100%\" x=\"0%\" y=\"48px\"><defs /><svg width=\"100%\" x=\"0\" y=\"0px\"><defs /><text text-anchor=\"middle\" x=\"50%\" y=\"16px\">NN</text></svg></svg><line stroke=\"black\" x1=\"50%\" x2=\"50%\" y1=\"19.2px\" y2=\"48px\" /></svg><line stroke=\"black\" x1=\"50%\" x2=\"80%\" y1=\"19.2px\" y2=\"48px\" /></svg>"
      ],
      "text/plain": [
       "Tree('NP', [('a', 'DT'), ('dangerous', 'JJ'), ('business', 'NN')])"
      ]
     },
     "metadata": {},
     "output_type": "display_data"
    },
    {
     "data": {
      "image/svg+xml": [
       "<svg baseProfile=\"full\" height=\"120px\" preserveAspectRatio=\"xMidYMid meet\" style=\"font-family: times, serif; font-weight: normal; font-style: normal; font-size: 16px;\" version=\"1.1\" viewBox=\"0,0,56.0,120.0\" width=\"56px\" xmlns=\"http://www.w3.org/2000/svg\" xmlns:ev=\"http://www.w3.org/2001/xml-events\" xmlns:xlink=\"http://www.w3.org/1999/xlink\"><defs /><svg width=\"100%\" x=\"0\" y=\"0px\"><defs /><text text-anchor=\"middle\" x=\"50%\" y=\"16px\">NP</text></svg><svg width=\"100%\" x=\"0%\" y=\"48px\"><defs /><svg width=\"100%\" x=\"0\" y=\"0px\"><defs /><text text-anchor=\"middle\" x=\"50%\" y=\"16px\">Frodo</text></svg><svg width=\"100%\" x=\"0%\" y=\"48px\"><defs /><svg width=\"100%\" x=\"0\" y=\"0px\"><defs /><text text-anchor=\"middle\" x=\"50%\" y=\"16px\">NNP</text></svg></svg><line stroke=\"black\" x1=\"50%\" x2=\"50%\" y1=\"19.2px\" y2=\"48px\" /></svg><line stroke=\"black\" x1=\"50%\" x2=\"50%\" y1=\"19.2px\" y2=\"48px\" /></svg>"
      ],
      "text/plain": [
       "Tree('NP', [('Frodo', 'NNP')])"
      ]
     },
     "metadata": {},
     "output_type": "display_data"
    },
    {
     "data": {
      "image/svg+xml": [
       "<svg baseProfile=\"full\" height=\"120px\" preserveAspectRatio=\"xMidYMid meet\" style=\"font-family: times, serif; font-weight: normal; font-style: normal; font-size: 16px;\" version=\"1.1\" viewBox=\"0,0,48.0,120.0\" width=\"48px\" xmlns=\"http://www.w3.org/2000/svg\" xmlns:ev=\"http://www.w3.org/2001/xml-events\" xmlns:xlink=\"http://www.w3.org/1999/xlink\"><defs /><svg width=\"100%\" x=\"0\" y=\"0px\"><defs /><text text-anchor=\"middle\" x=\"50%\" y=\"16px\">NP</text></svg><svg width=\"100%\" x=\"0%\" y=\"48px\"><defs /><svg width=\"100%\" x=\"0\" y=\"0px\"><defs /><text text-anchor=\"middle\" x=\"50%\" y=\"16px\">door</text></svg><svg width=\"100%\" x=\"0%\" y=\"48px\"><defs /><svg width=\"100%\" x=\"0\" y=\"0px\"><defs /><text text-anchor=\"middle\" x=\"50%\" y=\"16px\">NN</text></svg></svg><line stroke=\"black\" x1=\"50%\" x2=\"50%\" y1=\"19.2px\" y2=\"48px\" /></svg><line stroke=\"black\" x1=\"50%\" x2=\"50%\" y1=\"19.2px\" y2=\"48px\" /></svg>"
      ],
      "text/plain": [
       "Tree('NP', [('door', 'NN')])"
      ]
     },
     "metadata": {},
     "output_type": "display_data"
    }
   ],
   "source": [
    "from IPython.display import display\n",
    "from nltk import Tree\n",
    "\n",
    "# Assuming `chucked` contains the parsed chunks\n",
    "for tree in chucked:\n",
    "    if isinstance(tree, Tree):\n",
    "        display(tree)"
   ]
  }
 ],
 "metadata": {
  "kernelspec": {
   "display_name": "pytorch",
   "language": "python",
   "name": "python3"
  },
  "language_info": {
   "codemirror_mode": {
    "name": "ipython",
    "version": 3
   },
   "file_extension": ".py",
   "mimetype": "text/x-python",
   "name": "python",
   "nbconvert_exporter": "python",
   "pygments_lexer": "ipython3",
   "version": "3.10.13"
  }
 },
 "nbformat": 4,
 "nbformat_minor": 2
}
