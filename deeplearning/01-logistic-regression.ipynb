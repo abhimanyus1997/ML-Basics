{
 "cells": [
  {
   "cell_type": "markdown",
   "metadata": {},
   "source": [
    "# Logistic Regression"
   ]
  },
  {
   "cell_type": "markdown",
   "metadata": {},
   "source": [
    "## Data Preprocessing"
   ]
  },
  {
   "cell_type": "code",
   "execution_count": 31,
   "metadata": {},
   "outputs": [
    {
     "data": {
      "text/html": [
       "<div>\n",
       "<style scoped>\n",
       "    .dataframe tbody tr th:only-of-type {\n",
       "        vertical-align: middle;\n",
       "    }\n",
       "\n",
       "    .dataframe tbody tr th {\n",
       "        vertical-align: top;\n",
       "    }\n",
       "\n",
       "    .dataframe thead th {\n",
       "        text-align: right;\n",
       "    }\n",
       "</style>\n",
       "<table border=\"1\" class=\"dataframe\">\n",
       "  <thead>\n",
       "    <tr style=\"text-align: right;\">\n",
       "      <th></th>\n",
       "      <th>Age</th>\n",
       "      <th>EstimatedSalary</th>\n",
       "      <th>Purchased</th>\n",
       "    </tr>\n",
       "  </thead>\n",
       "  <tbody>\n",
       "    <tr>\n",
       "      <th>0</th>\n",
       "      <td>19</td>\n",
       "      <td>19000</td>\n",
       "      <td>0</td>\n",
       "    </tr>\n",
       "    <tr>\n",
       "      <th>1</th>\n",
       "      <td>35</td>\n",
       "      <td>20000</td>\n",
       "      <td>0</td>\n",
       "    </tr>\n",
       "    <tr>\n",
       "      <th>2</th>\n",
       "      <td>26</td>\n",
       "      <td>43000</td>\n",
       "      <td>0</td>\n",
       "    </tr>\n",
       "    <tr>\n",
       "      <th>3</th>\n",
       "      <td>27</td>\n",
       "      <td>57000</td>\n",
       "      <td>0</td>\n",
       "    </tr>\n",
       "    <tr>\n",
       "      <th>4</th>\n",
       "      <td>19</td>\n",
       "      <td>76000</td>\n",
       "      <td>0</td>\n",
       "    </tr>\n",
       "  </tbody>\n",
       "</table>\n",
       "</div>"
      ],
      "text/plain": [
       "   Age  EstimatedSalary  Purchased\n",
       "0   19            19000          0\n",
       "1   35            20000          0\n",
       "2   26            43000          0\n",
       "3   27            57000          0\n",
       "4   19            76000          0"
      ]
     },
     "execution_count": 31,
     "metadata": {},
     "output_type": "execute_result"
    }
   ],
   "source": [
    "import numpy as np\n",
    "import pandas as pd\n",
    "import matplotlib.pyplot as plt\n",
    "%matplotlib inline\n",
    "\n",
    "dataset = pd.read_csv('../datasets/02-regression/Social_Network_Ads.csv')\n",
    "dataset.head()\n"
   ]
  },
  {
   "cell_type": "code",
   "execution_count": 46,
   "metadata": {},
   "outputs": [
    {
     "data": {
      "text/html": [
       "<div>\n",
       "<style scoped>\n",
       "    .dataframe tbody tr th:only-of-type {\n",
       "        vertical-align: middle;\n",
       "    }\n",
       "\n",
       "    .dataframe tbody tr th {\n",
       "        vertical-align: top;\n",
       "    }\n",
       "\n",
       "    .dataframe thead th {\n",
       "        text-align: right;\n",
       "    }\n",
       "</style>\n",
       "<table border=\"1\" class=\"dataframe\">\n",
       "  <thead>\n",
       "    <tr style=\"text-align: right;\">\n",
       "      <th></th>\n",
       "      <th>Age</th>\n",
       "      <th>EstimatedSalary</th>\n",
       "      <th>Purchased</th>\n",
       "    </tr>\n",
       "  </thead>\n",
       "  <tbody>\n",
       "    <tr>\n",
       "      <th>395</th>\n",
       "      <td>46</td>\n",
       "      <td>41000</td>\n",
       "      <td>1</td>\n",
       "    </tr>\n",
       "    <tr>\n",
       "      <th>396</th>\n",
       "      <td>51</td>\n",
       "      <td>23000</td>\n",
       "      <td>1</td>\n",
       "    </tr>\n",
       "    <tr>\n",
       "      <th>397</th>\n",
       "      <td>50</td>\n",
       "      <td>20000</td>\n",
       "      <td>1</td>\n",
       "    </tr>\n",
       "    <tr>\n",
       "      <th>398</th>\n",
       "      <td>36</td>\n",
       "      <td>33000</td>\n",
       "      <td>0</td>\n",
       "    </tr>\n",
       "    <tr>\n",
       "      <th>399</th>\n",
       "      <td>49</td>\n",
       "      <td>36000</td>\n",
       "      <td>1</td>\n",
       "    </tr>\n",
       "  </tbody>\n",
       "</table>\n",
       "</div>"
      ],
      "text/plain": [
       "     Age  EstimatedSalary  Purchased\n",
       "395   46            41000          1\n",
       "396   51            23000          1\n",
       "397   50            20000          1\n",
       "398   36            33000          0\n",
       "399   49            36000          1"
      ]
     },
     "execution_count": 46,
     "metadata": {},
     "output_type": "execute_result"
    }
   ],
   "source": [
    "dataset.tail()"
   ]
  },
  {
   "cell_type": "code",
   "execution_count": 32,
   "metadata": {},
   "outputs": [],
   "source": [
    "X = dataset.iloc[:,:-1].values\n",
    "y = dataset.iloc[:,-1].values"
   ]
  },
  {
   "cell_type": "code",
   "execution_count": 33,
   "metadata": {},
   "outputs": [
    {
     "data": {
      "text/plain": [
       "(400, 2)"
      ]
     },
     "execution_count": 33,
     "metadata": {},
     "output_type": "execute_result"
    }
   ],
   "source": [
    "X.shape"
   ]
  },
  {
   "cell_type": "markdown",
   "metadata": {},
   "source": [
    "### Splitting Dataset into train and test"
   ]
  },
  {
   "cell_type": "code",
   "execution_count": 34,
   "metadata": {},
   "outputs": [],
   "source": [
    "from sklearn.model_selection import train_test_split\n",
    "\n",
    "X_train, X_test, y_train, y_test = train_test_split(X, y, test_size=0.25, random_state=0)\n"
   ]
  },
  {
   "cell_type": "markdown",
   "metadata": {},
   "source": [
    "### Feature Scalling (Optional in Logistic regression)\n",
    "Applied to improve performance"
   ]
  },
  {
   "cell_type": "code",
   "execution_count": 35,
   "metadata": {},
   "outputs": [
    {
     "data": {
      "text/plain": [
       "(300, 2)"
      ]
     },
     "execution_count": 35,
     "metadata": {},
     "output_type": "execute_result"
    }
   ],
   "source": [
    "X_train.shape"
   ]
  },
  {
   "cell_type": "code",
   "execution_count": 36,
   "metadata": {},
   "outputs": [],
   "source": [
    "from sklearn.preprocessing import StandardScaler\n",
    "sc = StandardScaler()\n",
    "X_train = sc.fit_transform(X_train)\n",
    "X_test = sc.transform(X_test)"
   ]
  },
  {
   "cell_type": "code",
   "execution_count": 37,
   "metadata": {},
   "outputs": [
    {
     "name": "stdout",
     "output_type": "stream",
     "text": [
      "[[ 0.58164944 -0.88670699]\n",
      " [-0.60673761  1.46173768]\n",
      " [-0.01254409 -0.5677824 ]\n",
      " [-0.60673761  1.89663484]\n",
      " [ 1.37390747 -1.40858358]\n",
      " [ 1.47293972  0.99784738]\n",
      " [ 0.08648817 -0.79972756]\n",
      " [-0.01254409 -0.24885782]\n",
      " [-0.21060859 -0.5677824 ]\n",
      " [-0.21060859 -0.19087153]]\n"
     ]
    }
   ],
   "source": [
    "# SHowing First 10 data of train\n",
    "print(X_train[:10,:])"
   ]
  },
  {
   "cell_type": "code",
   "execution_count": 38,
   "metadata": {},
   "outputs": [
    {
     "name": "stdout",
     "output_type": "stream",
     "text": [
      "[[-0.80480212  0.50496393]\n",
      " [-0.01254409 -0.5677824 ]\n",
      " [-0.30964085  0.1570462 ]\n",
      " [-0.80480212  0.27301877]\n",
      " [-0.30964085 -0.5677824 ]\n",
      " [-1.10189888 -1.43757673]\n",
      " [-0.70576986 -1.58254245]\n",
      " [-0.21060859  2.15757314]\n",
      " [-1.99318916 -0.04590581]\n",
      " [ 0.8787462  -0.77073441]]\n"
     ]
    }
   ],
   "source": [
    "# SHowing First 10 data of test\n",
    "print(X_test[:10,:])"
   ]
  },
  {
   "cell_type": "code",
   "execution_count": 39,
   "metadata": {},
   "outputs": [
    {
     "name": "stdout",
     "output_type": "stream",
     "text": [
      "[0 1 0 1 1 1 0 0 0 0]\n"
     ]
    }
   ],
   "source": [
    "print(y_train[:10])\n"
   ]
  },
  {
   "cell_type": "code",
   "execution_count": 40,
   "metadata": {},
   "outputs": [
    {
     "name": "stdout",
     "output_type": "stream",
     "text": [
      "[0 0 0 0 0 0 0 1 0 0]\n"
     ]
    }
   ],
   "source": [
    "print(y_test[:10])"
   ]
  },
  {
   "cell_type": "markdown",
   "metadata": {},
   "source": [
    "## Training Logistic Regression Model"
   ]
  },
  {
   "cell_type": "code",
   "execution_count": 41,
   "metadata": {},
   "outputs": [
    {
     "data": {
      "text/plain": [
       "LogisticRegression()"
      ]
     },
     "execution_count": 41,
     "metadata": {},
     "output_type": "execute_result"
    }
   ],
   "source": [
    "from sklearn.linear_model import LogisticRegression\n",
    "classifier = LogisticRegression()\n",
    "classifier.fit(X_train, y_train)"
   ]
  },
  {
   "cell_type": "markdown",
   "metadata": {},
   "source": [
    "### Predicting results"
   ]
  },
  {
   "cell_type": "code",
   "execution_count": 49,
   "metadata": {},
   "outputs": [],
   "source": [
    "age = 30\n",
    "salary = 87000\n",
    "\n",
    "x_predict = [[age,salary]]"
   ]
  },
  {
   "cell_type": "code",
   "execution_count": 55,
   "metadata": {},
   "outputs": [
    {
     "name": "stdout",
     "output_type": "stream",
     "text": [
      "For Age:30 yrs & salary:$87000\n",
      "Predicted Purchase: False\n"
     ]
    }
   ],
   "source": [
    "y_pred = classifier.predict(sc.transform(x_predict))\n",
    "print(f\"For Age:{age} yrs & salary:${salary}\\nPredicted Purchase: {bool(y_pred[0])}\")\n"
   ]
  },
  {
   "cell_type": "markdown",
   "metadata": {},
   "source": [
    "### Predicting all test values"
   ]
  },
  {
   "cell_type": "code",
   "execution_count": 72,
   "metadata": {},
   "outputs": [
    {
     "name": "stdout",
     "output_type": "stream",
     "text": [
      "For Age:30 & Sal: $87000, Purchased:False\n",
      "\n",
      "For Age:38 & Sal: $50000, Purchased:False\n",
      "\n",
      "For Age:35 & Sal: $75000, Purchased:False\n",
      "\n",
      "For Age:30 & Sal: $79000, Purchased:False\n",
      "\n",
      "For Age:35 & Sal: $50000, Purchased:False\n",
      "\n",
      "For Age:27 & Sal: $20000, Purchased:False\n",
      "\n",
      "For Age:31 & Sal: $15000, Purchased:False\n",
      "\n",
      "For Age:36 & Sal: $144000, Purchased:True\n",
      "\n",
      "For Age:18 & Sal: $68000, Purchased:False\n",
      "\n",
      "For Age:47 & Sal: $43000, Purchased:True\n",
      "\n",
      "For Age:30 & Sal: $49000, Purchased:False\n",
      "\n",
      "For Age:28 & Sal: $55000, Purchased:False\n",
      "\n",
      "For Age:37 & Sal: $55000, Purchased:False\n",
      "\n",
      "For Age:39 & Sal: $77000, Purchased:False\n",
      "\n",
      "For Age:20 & Sal: $86000, Purchased:False\n",
      "\n",
      "For Age:32 & Sal: $117000, Purchased:False\n",
      "\n",
      "For Age:37 & Sal: $77000, Purchased:False\n",
      "\n",
      "For Age:19 & Sal: $85000, Purchased:False\n",
      "\n",
      "For Age:55 & Sal: $130000, Purchased:True\n",
      "\n",
      "For Age:35 & Sal: $22000, Purchased:False\n",
      "\n",
      "For Age:35 & Sal: $47000, Purchased:False\n",
      "\n",
      "For Age:47 & Sal: $144000, Purchased:True\n",
      "\n",
      "For Age:41 & Sal: $51000, Purchased:False\n",
      "\n",
      "For Age:47 & Sal: $105000, Purchased:True\n",
      "\n",
      "For Age:23 & Sal: $28000, Purchased:False\n",
      "\n",
      "For Age:49 & Sal: $141000, Purchased:True\n",
      "\n",
      "For Age:28 & Sal: $87000, Purchased:False\n",
      "\n",
      "For Age:29 & Sal: $80000, Purchased:False\n",
      "\n",
      "For Age:37 & Sal: $62000, Purchased:False\n",
      "\n",
      "For Age:32 & Sal: $86000, Purchased:False\n",
      "\n",
      "For Age:21 & Sal: $88000, Purchased:False\n",
      "\n",
      "For Age:37 & Sal: $79000, Purchased:False\n",
      "\n",
      "For Age:57 & Sal: $60000, Purchased:True\n",
      "\n",
      "For Age:37 & Sal: $53000, Purchased:False\n",
      "\n",
      "For Age:24 & Sal: $58000, Purchased:False\n",
      "\n",
      "For Age:18 & Sal: $52000, Purchased:False\n",
      "\n",
      "For Age:22 & Sal: $81000, Purchased:False\n",
      "\n",
      "For Age:34 & Sal: $43000, Purchased:False\n",
      "\n",
      "For Age:31 & Sal: $34000, Purchased:False\n",
      "\n",
      "For Age:49 & Sal: $36000, Purchased:True\n",
      "\n",
      "For Age:27 & Sal: $88000, Purchased:False\n",
      "\n",
      "For Age:41 & Sal: $52000, Purchased:False\n",
      "\n",
      "For Age:27 & Sal: $84000, Purchased:False\n",
      "\n",
      "For Age:35 & Sal: $20000, Purchased:False\n",
      "\n",
      "For Age:43 & Sal: $112000, Purchased:True\n",
      "\n",
      "For Age:27 & Sal: $58000, Purchased:False\n",
      "\n",
      "For Age:37 & Sal: $80000, Purchased:False\n",
      "\n",
      "For Age:52 & Sal: $90000, Purchased:True\n",
      "\n",
      "For Age:26 & Sal: $30000, Purchased:False\n",
      "\n",
      "For Age:49 & Sal: $86000, Purchased:True\n",
      "\n",
      "For Age:57 & Sal: $122000, Purchased:True\n",
      "\n",
      "For Age:34 & Sal: $25000, Purchased:False\n",
      "\n",
      "For Age:35 & Sal: $57000, Purchased:False\n",
      "\n",
      "For Age:34 & Sal: $115000, Purchased:False\n",
      "\n",
      "For Age:59 & Sal: $88000, Purchased:True\n",
      "\n",
      "For Age:45 & Sal: $32000, Purchased:False\n",
      "\n",
      "For Age:29 & Sal: $83000, Purchased:False\n",
      "\n",
      "For Age:26 & Sal: $80000, Purchased:False\n",
      "\n",
      "For Age:49 & Sal: $28000, Purchased:False\n",
      "\n",
      "For Age:23 & Sal: $20000, Purchased:False\n",
      "\n",
      "For Age:32 & Sal: $18000, Purchased:False\n",
      "\n",
      "For Age:60 & Sal: $42000, Purchased:True\n",
      "\n",
      "For Age:19 & Sal: $76000, Purchased:False\n",
      "\n",
      "For Age:36 & Sal: $99000, Purchased:False\n",
      "\n",
      "For Age:19 & Sal: $26000, Purchased:False\n",
      "\n",
      "For Age:60 & Sal: $83000, Purchased:True\n",
      "\n",
      "For Age:24 & Sal: $89000, Purchased:False\n",
      "\n",
      "For Age:27 & Sal: $58000, Purchased:False\n",
      "\n",
      "For Age:40 & Sal: $47000, Purchased:False\n",
      "\n",
      "For Age:42 & Sal: $70000, Purchased:False\n",
      "\n",
      "For Age:32 & Sal: $150000, Purchased:True\n",
      "\n",
      "For Age:35 & Sal: $77000, Purchased:False\n",
      "\n",
      "For Age:22 & Sal: $63000, Purchased:False\n",
      "\n",
      "For Age:45 & Sal: $22000, Purchased:False\n",
      "\n",
      "For Age:27 & Sal: $89000, Purchased:False\n",
      "\n",
      "For Age:18 & Sal: $82000, Purchased:False\n",
      "\n",
      "For Age:42 & Sal: $79000, Purchased:True\n",
      "\n",
      "For Age:40 & Sal: $60000, Purchased:False\n",
      "\n",
      "For Age:53 & Sal: $34000, Purchased:True\n",
      "\n",
      "For Age:47 & Sal: $107000, Purchased:True\n",
      "\n",
      "For Age:58 & Sal: $144000, Purchased:True\n",
      "\n",
      "For Age:59 & Sal: $83000, Purchased:True\n",
      "\n",
      "For Age:24 & Sal: $55000, Purchased:False\n",
      "\n",
      "For Age:26 & Sal: $35000, Purchased:False\n",
      "\n",
      "For Age:58 & Sal: $38000, Purchased:True\n",
      "\n",
      "For Age:42 & Sal: $80000, Purchased:True\n",
      "\n",
      "For Age:40 & Sal: $75000, Purchased:False\n",
      "\n",
      "For Age:59 & Sal: $130000, Purchased:True\n",
      "\n",
      "For Age:46 & Sal: $41000, Purchased:False\n",
      "\n",
      "For Age:41 & Sal: $60000, Purchased:False\n",
      "\n",
      "For Age:42 & Sal: $64000, Purchased:False\n",
      "\n",
      "For Age:37 & Sal: $146000, Purchased:True\n",
      "\n",
      "For Age:23 & Sal: $48000, Purchased:False\n",
      "\n",
      "For Age:25 & Sal: $33000, Purchased:False\n",
      "\n",
      "For Age:24 & Sal: $84000, Purchased:False\n",
      "\n",
      "For Age:27 & Sal: $96000, Purchased:False\n",
      "\n",
      "For Age:23 & Sal: $63000, Purchased:False\n",
      "\n",
      "For Age:48 & Sal: $33000, Purchased:False\n",
      "\n",
      "For Age:48 & Sal: $90000, Purchased:True\n",
      "\n",
      "For Age:42 & Sal: $104000, Purchased:True\n",
      "\n"
     ]
    }
   ],
   "source": [
    "i = 0\n",
    "purchased_arr = []\n",
    "for isPurchased in y_pred:\n",
    "    x = sc.inverse_transform(X_test[i, :].reshape(1, -1))[0]\n",
    "    age = int(x[0])\n",
    "    salary = int(x[1])\n",
    "    print(\n",
    "        f\"For Age:{age} & Sal: ${salary}, Purchased:{bool(isPurchased)}\\n\")\n",
    "    purchased_arr.append(isPurchased)\n",
    "    i+=1\n"
   ]
  },
  {
   "cell_type": "markdown",
   "metadata": {},
   "source": [
    "### Creating Confusion Matrix"
   ]
  },
  {
   "cell_type": "code",
   "execution_count": 75,
   "metadata": {},
   "outputs": [
    {
     "name": "stdout",
     "output_type": "stream",
     "text": [
      "[0 0 0 0 0 0 0 1 0 0 0 0 0 0 0 0 0 0 1 0 0 1 0 1 0 1 0 0 0 0 0 1 1 0 0 0 0\n",
      " 0 0 1 0 0 0 0 1 0 0 1 0 1 1 0 0 0 1 1 0 0 1 0 0 1 0 1 0 1 0 0 0 0 1 0 0 1\n",
      " 0 0 0 0 1 1 1 0 0 0 1 1 0 1 1 0 0 1 0 0 0 1 0 1 1 1]\n",
      "[0 0 0 0 0 0 0 1 0 1 0 0 0 0 0 0 0 0 1 0 0 1 0 1 0 1 0 0 0 0 0 0 1 0 0 0 0\n",
      " 0 0 1 0 0 0 0 1 0 0 1 0 1 1 0 0 0 1 0 0 0 0 0 0 1 0 0 0 1 0 0 0 0 1 0 0 0\n",
      " 0 0 1 0 1 1 1 1 0 0 1 1 0 1 0 0 0 1 0 0 0 0 0 0 1 1]\n"
     ]
    }
   ],
   "source": [
    "print(y_test)\n",
    "print(y_pred)\n"
   ]
  },
  {
   "cell_type": "code",
   "execution_count": 88,
   "metadata": {},
   "outputs": [
    {
     "name": "stdout",
     "output_type": "stream",
     "text": [
      "[[65  3]\n",
      " [ 8 24]]\n"
     ]
    }
   ],
   "source": [
    "from sklearn.metrics import confusion_matrix, ConfusionMatrixDisplay\n",
    "cm = confusion_matrix(y_test, y_pred)\n",
    "print(cm)\n"
   ]
  },
  {
   "cell_type": "code",
   "execution_count": 100,
   "metadata": {},
   "outputs": [
    {
     "data": {
      "image/png": "[encoded data removed]",
      "text/plain": [
       "<Figure size 432x288 with 2 Axes>"
      ]
     },
     "metadata": {
      "needs_background": "light"
     },
     "output_type": "display_data"
    }
   ],
   "source": [
    "from cProfile import label\n",
    "\n",
    "\n",
    "disp = ConfusionMatrixDisplay(\n",
    "                                confusion_matrix=cm,\n",
    "                                display_labels=[\"Not Purchased\",\"Purchased\"]\n",
    "                                )\n",
    "disp.plot(cmap='bone')\n",
    "plt.show()"
   ]
  },
  {
   "cell_type": "code",
   "execution_count": null,
   "metadata": {},
   "outputs": [],
   "source": []
  }
 ],
 "metadata": {
  "kernelspec": {
   "display_name": "Python 3.10.6 64-bit",
   "language": "python",
   "name": "python3"
  },
  "language_info": {
   "codemirror_mode": {
    "name": "ipython",
    "version": 3
   },
   "file_extension": ".py",
   "mimetype": "text/x-python",
   "name": "python",
   "nbconvert_exporter": "python",
   "pygments_lexer": "ipython3",
   "version": "3.10.6"
  },
  "orig_nbformat": 4,
  "vscode": {
   "interpreter": {
    "hash": "369f2c481f4da34e4445cda3fffd2e751bd1c4d706f27375911949ba6bb62e1c"
   }
  }
 },
 "nbformat": 4,
 "nbformat_minor": 2
}
