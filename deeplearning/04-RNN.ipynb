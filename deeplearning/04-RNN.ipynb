{
 "cells": [
  {
   "cell_type": "markdown",
   "metadata": {},
   "source": [
    "# Recurrent Neural Network"
   ]
  },
  {
   "cell_type": "code",
   "execution_count": 1,
   "metadata": {},
   "outputs": [],
   "source": [
    "import numpy as np\n",
    "import pandas as pd\n",
    "import matplotlib.pyplot as plt"
   ]
  },
  {
   "cell_type": "markdown",
   "metadata": {},
   "source": [
    "## Data Preprocessing"
   ]
  },
  {
   "cell_type": "code",
   "execution_count": 2,
   "metadata": {},
   "outputs": [
    {
     "data": {
      "text/html": [
       "<div>\n",
       "<style scoped>\n",
       "    .dataframe tbody tr th:only-of-type {\n",
       "        vertical-align: middle;\n",
       "    }\n",
       "\n",
       "    .dataframe tbody tr th {\n",
       "        vertical-align: top;\n",
       "    }\n",
       "\n",
       "    .dataframe thead th {\n",
       "        text-align: right;\n",
       "    }\n",
       "</style>\n",
       "<table border=\"1\" class=\"dataframe\">\n",
       "  <thead>\n",
       "    <tr style=\"text-align: right;\">\n",
       "      <th></th>\n",
       "      <th>Date</th>\n",
       "      <th>Open</th>\n",
       "      <th>High</th>\n",
       "      <th>Low</th>\n",
       "      <th>Close</th>\n",
       "      <th>Adj Close</th>\n",
       "      <th>Volume</th>\n",
       "    </tr>\n",
       "  </thead>\n",
       "  <tbody>\n",
       "    <tr>\n",
       "      <th>0</th>\n",
       "      <td>2020-01-25</td>\n",
       "      <td>163.067291</td>\n",
       "      <td>163.227234</td>\n",
       "      <td>158.632477</td>\n",
       "      <td>161.283936</td>\n",
       "      <td>161.283936</td>\n",
       "      <td>8256956802</td>\n",
       "    </tr>\n",
       "    <tr>\n",
       "      <th>1</th>\n",
       "      <td>2020-01-26</td>\n",
       "      <td>161.176819</td>\n",
       "      <td>168.220322</td>\n",
       "      <td>160.281128</td>\n",
       "      <td>168.077103</td>\n",
       "      <td>168.077103</td>\n",
       "      <td>9261861590</td>\n",
       "    </tr>\n",
       "    <tr>\n",
       "      <th>2</th>\n",
       "      <td>2020-01-27</td>\n",
       "      <td>168.008850</td>\n",
       "      <td>172.922913</td>\n",
       "      <td>166.901093</td>\n",
       "      <td>170.930893</td>\n",
       "      <td>170.930893</td>\n",
       "      <td>11004476145</td>\n",
       "    </tr>\n",
       "    <tr>\n",
       "      <th>3</th>\n",
       "      <td>2020-01-28</td>\n",
       "      <td>170.884857</td>\n",
       "      <td>176.370316</td>\n",
       "      <td>170.738068</td>\n",
       "      <td>176.370316</td>\n",
       "      <td>176.370316</td>\n",
       "      <td>11772875064</td>\n",
       "    </tr>\n",
       "    <tr>\n",
       "      <th>4</th>\n",
       "      <td>2020-01-29</td>\n",
       "      <td>176.347885</td>\n",
       "      <td>178.842972</td>\n",
       "      <td>175.050339</td>\n",
       "      <td>175.050339</td>\n",
       "      <td>175.050339</td>\n",
       "      <td>10725267311</td>\n",
       "    </tr>\n",
       "    <tr>\n",
       "      <th>...</th>\n",
       "      <td>...</td>\n",
       "      <td>...</td>\n",
       "      <td>...</td>\n",
       "      <td>...</td>\n",
       "      <td>...</td>\n",
       "      <td>...</td>\n",
       "      <td>...</td>\n",
       "    </tr>\n",
       "    <tr>\n",
       "      <th>1031</th>\n",
       "      <td>2022-11-21</td>\n",
       "      <td>1142.395752</td>\n",
       "      <td>1142.395752</td>\n",
       "      <td>1084.857300</td>\n",
       "      <td>1108.353027</td>\n",
       "      <td>1108.353027</td>\n",
       "      <td>14080099208</td>\n",
       "    </tr>\n",
       "    <tr>\n",
       "      <th>1032</th>\n",
       "      <td>2022-11-22</td>\n",
       "      <td>1107.895996</td>\n",
       "      <td>1136.442627</td>\n",
       "      <td>1081.138184</td>\n",
       "      <td>1135.173462</td>\n",
       "      <td>1135.173462</td>\n",
       "      <td>12040670755</td>\n",
       "    </tr>\n",
       "    <tr>\n",
       "      <th>1033</th>\n",
       "      <td>2022-11-23</td>\n",
       "      <td>1135.421509</td>\n",
       "      <td>1184.997314</td>\n",
       "      <td>1130.022827</td>\n",
       "      <td>1183.199585</td>\n",
       "      <td>1183.199585</td>\n",
       "      <td>11242676044</td>\n",
       "    </tr>\n",
       "    <tr>\n",
       "      <th>1034</th>\n",
       "      <td>2022-11-24</td>\n",
       "      <td>1183.345093</td>\n",
       "      <td>1211.627441</td>\n",
       "      <td>1180.379761</td>\n",
       "      <td>1203.983154</td>\n",
       "      <td>1203.983154</td>\n",
       "      <td>9706372376</td>\n",
       "    </tr>\n",
       "    <tr>\n",
       "      <th>1035</th>\n",
       "      <td>2022-11-25</td>\n",
       "      <td>1202.505493</td>\n",
       "      <td>1202.767212</td>\n",
       "      <td>1175.496216</td>\n",
       "      <td>1181.661621</td>\n",
       "      <td>1181.661621</td>\n",
       "      <td>8519430144</td>\n",
       "    </tr>\n",
       "  </tbody>\n",
       "</table>\n",
       "<p>1036 rows × 7 columns</p>\n",
       "</div>"
      ],
      "text/plain": [
       "            Date         Open         High          Low        Close  \\\n",
       "0     2020-01-25   163.067291   163.227234   158.632477   161.283936   \n",
       "1     2020-01-26   161.176819   168.220322   160.281128   168.077103   \n",
       "2     2020-01-27   168.008850   172.922913   166.901093   170.930893   \n",
       "3     2020-01-28   170.884857   176.370316   170.738068   176.370316   \n",
       "4     2020-01-29   176.347885   178.842972   175.050339   175.050339   \n",
       "...          ...          ...          ...          ...          ...   \n",
       "1031  2022-11-21  1142.395752  1142.395752  1084.857300  1108.353027   \n",
       "1032  2022-11-22  1107.895996  1136.442627  1081.138184  1135.173462   \n",
       "1033  2022-11-23  1135.421509  1184.997314  1130.022827  1183.199585   \n",
       "1034  2022-11-24  1183.345093  1211.627441  1180.379761  1203.983154   \n",
       "1035  2022-11-25  1202.505493  1202.767212  1175.496216  1181.661621   \n",
       "\n",
       "        Adj Close       Volume  \n",
       "0      161.283936   8256956802  \n",
       "1      168.077103   9261861590  \n",
       "2      170.930893  11004476145  \n",
       "3      176.370316  11772875064  \n",
       "4      175.050339  10725267311  \n",
       "...           ...          ...  \n",
       "1031  1108.353027  14080099208  \n",
       "1032  1135.173462  12040670755  \n",
       "1033  1183.199585  11242676044  \n",
       "1034  1203.983154   9706372376  \n",
       "1035  1181.661621   8519430144  \n",
       "\n",
       "[1036 rows x 7 columns]"
      ]
     },
     "metadata": {},
     "output_type": "display_data"
    }
   ],
   "source": [
    "dataset_train =  pd.read_csv(\"dataset_dl/ETH-USD.csv\")\n",
    "display(dataset_train)"
   ]
  },
  {
   "cell_type": "code",
   "execution_count": 3,
   "metadata": {},
   "outputs": [],
   "source": [
    "# Opening price of ETH (in USD)\n",
    "training_set = dataset_train.iloc[:,1:2].values"
   ]
  },
  {
   "cell_type": "code",
   "execution_count": 4,
   "metadata": {},
   "outputs": [
    {
     "name": "stdout",
     "output_type": "stream",
     "text": [
      "[[ 163.067291]\n",
      " [ 161.176819]\n",
      " [ 168.00885 ]\n",
      " ...\n",
      " [1135.421509]\n",
      " [1183.345093]\n",
      " [1202.505493]]\n"
     ]
    }
   ],
   "source": [
    "print(training_set)"
   ]
  },
  {
   "cell_type": "code",
   "execution_count": 7,
   "metadata": {},
   "outputs": [],
   "source": [
    "# Feature Scalling by doing Normalization\n",
    "from sklearn.preprocessing import MinMaxScaler\n",
    "sc = MinMaxScaler(feature_range = (0,1))\n",
    "training_set_scaled = sc.fit_transform(training_set)"
   ]
  },
  {
   "cell_type": "code",
   "execution_count": 16,
   "metadata": {},
   "outputs": [
    {
     "name": "stdout",
     "output_type": "stream",
     "text": [
      "[[0.01120516]\n",
      " [0.01080291]\n",
      " [0.01225663]\n",
      " ...\n",
      " [0.21810381]\n",
      " [0.22830104]\n",
      " [0.23237802]]\n",
      "\n",
      "No of Elemets: 1036\n"
     ]
    }
   ],
   "source": [
    "print(training_set_scaled)\n",
    "print(f\"\\nNo of Elemets: {len(training_set_scaled)}\")"
   ]
  },
  {
   "cell_type": "code",
   "execution_count": 14,
   "metadata": {},
   "outputs": [
    {
     "name": "stdout",
     "output_type": "stream",
     "text": [
      "Statistical Summary of Feature Scaled Data:\n"
     ]
    },
    {
     "data": {
      "text/html": [
       "<div>\n",
       "<style scoped>\n",
       "    .dataframe tbody tr th:only-of-type {\n",
       "        vertical-align: middle;\n",
       "    }\n",
       "\n",
       "    .dataframe tbody tr th {\n",
       "        vertical-align: top;\n",
       "    }\n",
       "\n",
       "    .dataframe thead th {\n",
       "        text-align: right;\n",
       "    }\n",
       "</style>\n",
       "<table border=\"1\" class=\"dataframe\">\n",
       "  <thead>\n",
       "    <tr style=\"text-align: right;\">\n",
       "      <th></th>\n",
       "      <th>0</th>\n",
       "    </tr>\n",
       "  </thead>\n",
       "  <tbody>\n",
       "    <tr>\n",
       "      <th>count</th>\n",
       "      <td>1036.000000</td>\n",
       "    </tr>\n",
       "    <tr>\n",
       "      <th>mean</th>\n",
       "      <td>0.346881</td>\n",
       "    </tr>\n",
       "    <tr>\n",
       "      <th>std</th>\n",
       "      <td>0.273399</td>\n",
       "    </tr>\n",
       "    <tr>\n",
       "      <th>min</th>\n",
       "      <td>0.000000</td>\n",
       "    </tr>\n",
       "    <tr>\n",
       "      <th>25%</th>\n",
       "      <td>0.060533</td>\n",
       "    </tr>\n",
       "    <tr>\n",
       "      <th>50%</th>\n",
       "      <td>0.319755</td>\n",
       "    </tr>\n",
       "    <tr>\n",
       "      <th>75%</th>\n",
       "      <td>0.566349</td>\n",
       "    </tr>\n",
       "    <tr>\n",
       "      <th>max</th>\n",
       "      <td>1.000000</td>\n",
       "    </tr>\n",
       "  </tbody>\n",
       "</table>\n",
       "</div>"
      ],
      "text/plain": [
       "                 0\n",
       "count  1036.000000\n",
       "mean      0.346881\n",
       "std       0.273399\n",
       "min       0.000000\n",
       "25%       0.060533\n",
       "50%       0.319755\n",
       "75%       0.566349\n",
       "max       1.000000"
      ]
     },
     "execution_count": 14,
     "metadata": {},
     "output_type": "execute_result"
    }
   ],
   "source": [
    "print(\"Statistical Summary of Feature Scaled Data:\")\n",
    "pd.DataFrame(training_set_scaled).describe()"
   ]
  },
  {
   "cell_type": "code",
   "execution_count": 21,
   "metadata": {},
   "outputs": [],
   "source": [
    "# Creating a Data Structure with 60 timestamps (2 months) and 1 output\n",
    "\n",
    "X_train = []\n",
    "y_train = []\n",
    "for i in range(60, len(training_set_scaled)):\n",
    "    X_train.append(training_set_scaled[i-60:i,0])\n",
    "    y_train.append(training_set_scaled[i,0])\n",
    "    \n",
    "X_train, y_train = np.array(X_train), np.array(y_train)"
   ]
  },
  {
   "cell_type": "code",
   "execution_count": 32,
   "metadata": {},
   "outputs": [
    {
     "data": {
      "text/plain": [
       "array([0.01120516, 0.01080291, 0.01225663, 0.01286859, 0.01403102,\n",
       "       0.01372671, 0.01581605, 0.01483233, 0.01555977, 0.01663962,\n",
       "       0.01690651, 0.0167868 , 0.01994247, 0.02168434, 0.02385366,\n",
       "       0.02395393, 0.02513846, 0.02403962, 0.02670221, 0.03290574,\n",
       "       0.03353782, 0.0370568 , 0.03287411, 0.03180733, 0.03321557,\n",
       "       0.03651952, 0.03179228, 0.03138188, 0.03301189, 0.03231542,\n",
       "       0.0347468 , 0.03295482, 0.02922196, 0.02452947, 0.0248062 ,\n",
       "       0.0247734 , 0.02326675, 0.02304523, 0.02555867, 0.02429079,\n",
       "       0.02430708, 0.02527024, 0.02837296, 0.02710276, 0.0193443 ,\n",
       "       0.01967314, 0.01922717, 0.01794429, 0.00048582, 0.00493135,\n",
       "       0.00273196, 0.00310433, 0.        , 0.00073428, 0.00094327,\n",
       "       0.00558391, 0.00482906, 0.00477573, 0.00275747, 0.00527428])"
      ]
     },
     "execution_count": 32,
     "metadata": {},
     "output_type": "execute_result"
    }
   ],
   "source": [
    "X_train[0]"
   ]
  },
  {
   "cell_type": "code",
   "execution_count": 29,
   "metadata": {},
   "outputs": [
    {
     "data": {
      "text/plain": [
       "(976, 60)"
      ]
     },
     "execution_count": 29,
     "metadata": {},
     "output_type": "execute_result"
    }
   ],
   "source": [
    "X_train.shape"
   ]
  },
  {
   "cell_type": "code",
   "execution_count": 33,
   "metadata": {},
   "outputs": [],
   "source": [
    "# Reshaping Data\n",
    "X_train = np.reshape(X_train, newshape=(*X_train.shape,1))"
   ]
  },
  {
   "cell_type": "code",
   "execution_count": 34,
   "metadata": {},
   "outputs": [
    {
     "data": {
      "text/plain": [
       "(976, 60, 1)"
      ]
     },
     "execution_count": 34,
     "metadata": {},
     "output_type": "execute_result"
    }
   ],
   "source": [
    "X_train.shape"
   ]
  },
  {
   "cell_type": "markdown",
   "metadata": {},
   "source": [
    "## Building RNN"
   ]
  },
  {
   "cell_type": "code",
   "execution_count": null,
   "metadata": {},
   "outputs": [],
   "source": []
  }
 ],
 "metadata": {
  "kernelspec": {
   "display_name": "Python 3 (ipykernel)",
   "language": "python",
   "name": "python3"
  },
  "language_info": {
   "codemirror_mode": {
    "name": "ipython",
    "version": 3
   },
   "file_extension": ".py",
   "mimetype": "text/x-python",
   "name": "python",
   "nbconvert_exporter": "python",
   "pygments_lexer": "ipython3",
   "version": "3.9.13"
  },
  "vscode": {
   "interpreter": {
    "hash": "e85556cd639849d6c1361db0a433433fe588bb9e07514b044682fe76c87df726"
   }
  }
 },
 "nbformat": 4,
 "nbformat_minor": 4
}
