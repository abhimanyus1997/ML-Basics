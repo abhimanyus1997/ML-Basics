{
 "cells": [
  {
   "attachments": {},
   "cell_type": "markdown",
   "id": "c8e1019c-8faf-427a-b79a-cddb5e5eccb0",
   "metadata": {},
   "source": [
    "# Pandas \n",
    "<img src=\"https://upload.wikimedia.org/wikipedia/commons/e/ed/Pandas_logo.svg\" alt=\"Pandas Logo\" width=\"25%\" align=\"center\"/>"
   ]
  },
  {
   "cell_type": "code",
   "execution_count": 14,
   "id": "10105943-6539-43d1-8909-d12af0f51e53",
   "metadata": {},
   "outputs": [
    {
     "name": "stdout",
     "output_type": "stream",
     "text": [
      "Pandas Version: 1.4.4\n"
     ]
    }
   ],
   "source": [
    "import numpy as np\n",
    "import pandas as pd\n",
    "\n",
    "print(\"Pandas Version:\",pd.__version__)"
   ]
  },
  {
   "attachments": {},
   "cell_type": "markdown",
   "id": "632dfbad-c54e-4b88-a163-e2d3f8aa45d7",
   "metadata": {},
   "source": [
    "## Series"
   ]
  },
  {
   "attachments": {},
   "cell_type": "markdown",
   "id": "c250bdd5",
   "metadata": {},
   "source": [
    "It is a one-dimensional array holding data of any type."
   ]
  },
  {
   "cell_type": "code",
   "execution_count": 2,
   "id": "5dbe8714-34ca-46a7-84b7-eb83b801c972",
   "metadata": {},
   "outputs": [],
   "source": [
    "labels = ['a','b','c']\n",
    "my_data = [10,20,30]\n",
    "arr = np.array(my_data)\n",
    "d = {'a':10, 'b':20, 'c':30}"
   ]
  },
  {
   "attachments": {},
   "cell_type": "markdown",
   "id": "37a5e386-d73c-4fd5-8122-e812ba840291",
   "metadata": {},
   "source": [
    "## Creating Series"
   ]
  },
  {
   "cell_type": "code",
   "execution_count": 3,
   "id": "5d579324-288f-4cab-a8d4-0a88db98c95b",
   "metadata": {},
   "outputs": [
    {
     "data": {
      "text/plain": [
       "a    10\n",
       "b    20\n",
       "c    30\n",
       "dtype: int64"
      ]
     },
     "execution_count": 3,
     "metadata": {},
     "output_type": "execute_result"
    }
   ],
   "source": [
    "# Creating Pandas Series with data and labels\n",
    "pd.Series(data=my_data , index=labels)"
   ]
  },
  {
   "cell_type": "code",
   "execution_count": 4,
   "id": "31f273e8-1ac2-43d9-bae0-ecd0326a45ea",
   "metadata": {},
   "outputs": [
    {
     "data": {
      "text/plain": [
       "a    10\n",
       "b    20\n",
       "c    30\n",
       "dtype: int64"
      ]
     },
     "execution_count": 4,
     "metadata": {},
     "output_type": "execute_result"
    }
   ],
   "source": [
    "# Creating Series using Dictionary\n",
    "pd.Series(d)"
   ]
  },
  {
   "cell_type": "code",
   "execution_count": 5,
   "id": "7e502e60-ae63-4259-aed3-6f17d07529f0",
   "metadata": {},
   "outputs": [
    {
     "data": {
      "text/plain": [
       "0      <built-in function sum>\n",
       "1      <built-in function len>\n",
       "2    <built-in function print>\n",
       "dtype: object"
      ]
     },
     "execution_count": 5,
     "metadata": {},
     "output_type": "execute_result"
    }
   ],
   "source": [
    "# Pandas Series can also hold Objects\n",
    "pd.Series(data=[sum,len,print])"
   ]
  },
  {
   "attachments": {},
   "cell_type": "markdown",
   "id": "67bcef24",
   "metadata": {},
   "source": [
    "### Easier & Efficient Trick for adding Index"
   ]
  },
  {
   "cell_type": "code",
   "execution_count": 6,
   "id": "c0f26224",
   "metadata": {},
   "outputs": [
    {
     "data": {
      "text/plain": [
       "Mon           Physics\n",
       "Tue       Mathematics\n",
       "Wed    Social Science\n",
       "Thu         Chemistry\n",
       "Fri           Drawing\n",
       "Sat           Biology\n",
       "Sun           English\n",
       "dtype: object"
      ]
     },
     "execution_count": 6,
     "metadata": {},
     "output_type": "execute_result"
    }
   ],
   "source": [
    "days = [\"Mon\", \"Tue\", \"Wed\", \"Thu\", \"Fri\", \"Sat\", \"Sun\"]\n",
    "subject = [\"Physics\", \"Mathematics\", \"Social Science\", \"Chemistry\", \"Drawing\" , \"Biology\", \"English\"]\n",
    "pd.Series(data=subject, index=days)"
   ]
  },
  {
   "attachments": {},
   "cell_type": "markdown",
   "id": "15133038-ed8a-4849-bcb2-27e27a73afd9",
   "metadata": {},
   "source": [
    "## Accessing Series"
   ]
  },
  {
   "cell_type": "code",
   "execution_count": 7,
   "id": "d674167b-cbad-4e97-93c5-322ffb1f555d",
   "metadata": {},
   "outputs": [
    {
     "data": {
      "text/plain": [
       "1st      Rajasthan\n",
       "2nd    Maharashtra\n",
       "3rd          Delhi\n",
       "dtype: object"
      ]
     },
     "metadata": {},
     "output_type": "display_data"
    }
   ],
   "source": [
    "ser1 = pd.Series([\"Rajasthan\", \"Maharashtra\", \"Delhi\"], ['1st','2nd','3rd'])\n",
    "display(ser1)"
   ]
  },
  {
   "cell_type": "code",
   "execution_count": 8,
   "id": "2373ef06-df83-4c64-988d-d37899c5cc3c",
   "metadata": {},
   "outputs": [
    {
     "data": {
      "text/plain": [
       "'Delhi'"
      ]
     },
     "execution_count": 8,
     "metadata": {},
     "output_type": "execute_result"
    }
   ],
   "source": [
    "ser1['3rd']"
   ]
  },
  {
   "cell_type": "code",
   "execution_count": 9,
   "id": "59bbeb4e-1344-4cdc-9718-1988072d2c46",
   "metadata": {},
   "outputs": [
    {
     "data": {
      "text/plain": [
       "i      10\n",
       "ii     31\n",
       "iii    52\n",
       "iv     24\n",
       "dtype: int64"
      ]
     },
     "execution_count": 9,
     "metadata": {},
     "output_type": "execute_result"
    }
   ],
   "source": [
    "ser2 = pd.Series({'i':10, 'ii':31, 'iii':52, 'iv':24})\n",
    "ser2"
   ]
  },
  {
   "attachments": {},
   "cell_type": "markdown",
   "id": "d0f99321-c225-4bb9-8c99-084785997de4",
   "metadata": {},
   "source": [
    "### Operations on Series"
   ]
  },
  {
   "cell_type": "code",
   "execution_count": 10,
   "id": "2c00d926-9fc8-4508-89d8-d332d96a65fd",
   "metadata": {},
   "outputs": [
    {
     "data": {
      "text/plain": [
       "1st    NaN\n",
       "2nd    NaN\n",
       "3rd    NaN\n",
       "i      NaN\n",
       "ii     NaN\n",
       "iii    NaN\n",
       "iv     NaN\n",
       "dtype: object"
      ]
     },
     "execution_count": 10,
     "metadata": {},
     "output_type": "execute_result"
    }
   ],
   "source": [
    "ser1+ser2"
   ]
  },
  {
   "cell_type": "code",
   "execution_count": 11,
   "id": "ee069b6d-ec4e-4e01-9745-f0e370cc5dbf",
   "metadata": {},
   "outputs": [
    {
     "data": {
      "text/plain": [
       "i       20\n",
       "ii      62\n",
       "iii    104\n",
       "iv      48\n",
       "dtype: int64"
      ]
     },
     "execution_count": 11,
     "metadata": {},
     "output_type": "execute_result"
    }
   ],
   "source": [
    "ser2+ser2"
   ]
  },
  {
   "cell_type": "code",
   "execution_count": 12,
   "id": "ee6b8b1c-c3df-458a-8476-6e74a5edbb9f",
   "metadata": {},
   "outputs": [
    {
     "data": {
      "text/plain": [
       "i       100\n",
       "ii      961\n",
       "iii    2704\n",
       "iv      576\n",
       "dtype: int64"
      ]
     },
     "execution_count": 12,
     "metadata": {},
     "output_type": "execute_result"
    }
   ],
   "source": [
    "ser2**2"
   ]
  },
  {
   "cell_type": "code",
   "execution_count": null,
   "id": "f39db8f3-3633-4039-8209-91bb4e09d3cd",
   "metadata": {},
   "outputs": [],
   "source": []
  }
 ],
 "metadata": {
  "kernelspec": {
   "display_name": "Python 3",
   "language": "python",
   "name": "python3"
  },
  "language_info": {
   "codemirror_mode": {
    "name": "ipython",
    "version": 3
   },
   "file_extension": ".py",
   "mimetype": "text/x-python",
   "name": "python",
   "nbconvert_exporter": "python",
   "pygments_lexer": "ipython3",
   "version": "3.9.13"
  },
  "vscode": {
   "interpreter": {
    "hash": "f14c17e9539268f653f692b88cb703c19ccda40c06f2b7df0f72858670e3a9bb"
   }
  }
 },
 "nbformat": 4,
 "nbformat_minor": 5
}
