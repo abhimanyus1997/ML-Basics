{
 "cells": [
  {
   "attachments": {},
   "cell_type": "markdown",
   "metadata": {},
   "source": [
    "# Basics of OpenCV and Computer Vision"
   ]
  },
  {
   "cell_type": "code",
   "execution_count": 3,
   "metadata": {},
   "outputs": [
    {
     "name": "stdout",
     "output_type": "stream",
     "text": [
      "Numpy Version: 1.21.5\n",
      "OpenCV Version: 4.6.0\n"
     ]
    }
   ],
   "source": [
    "import numpy as np\n",
    "import cv2\n",
    "\n",
    "print(\"Numpy Version:\",np.__version__)\n",
    "print(\"OpenCV Version:\",cv2.__version__)"
   ]
  },
  {
   "cell_type": "code",
   "execution_count": 4,
   "metadata": {},
   "outputs": [],
   "source": [
    "input = cv2.imread(\"../../datasets/images/mypaint.jpg\")"
   ]
  },
  {
   "cell_type": "code",
   "execution_count": 5,
   "metadata": {},
   "outputs": [],
   "source": [
    "# Displays image in a frame titled \"My Painting\"\n",
    "cv2.imshow(\"My Painting\", input)\n",
    "\n",
    "# Opens Frame for 2000ms = 2seconds\n",
    "cv2.waitKey(2000)\n",
    "\n",
    "# Closes all Windows\n",
    "cv2.destroyAllWindows()"
   ]
  },
  {
   "attachments": {},
   "cell_type": "markdown",
   "metadata": {},
   "source": [
    "## Video Capturing Using OpenCV"
   ]
  },
  {
   "attachments": {},
   "cell_type": "markdown",
   "metadata": {},
   "source": [
    "### Displaying the video"
   ]
  },
  {
   "cell_type": "code",
   "execution_count": 9,
   "metadata": {},
   "outputs": [],
   "source": [
    "import cv2\n",
    "\n",
    "# Open the default camera (index 0)\n",
    "cap = cv2.VideoCapture(0)\n",
    "\n",
    "# Check if camera opened successfully\n",
    "if not cap.isOpened():\n",
    "    print(\"Cannot open camera\")\n",
    "    exit()\n",
    "\n",
    "# Get the width and height of the captured frames\n",
    "width = int(cap.get(cv2.CAP_PROP_FRAME_WIDTH))\n",
    "height = int(cap.get(cv2.CAP_PROP_FRAME_HEIGHT))\n",
    "\n",
    "# Start an infinite loop to continuously capture frames\n",
    "while True:\n",
    "    # Read the current frame from the camera\n",
    "    \n",
    "    ret, frame = cap.read()\n",
    "    \n",
    "    # if frame is read correctly ret is True\n",
    "    if not ret:\n",
    "        print(\"Can't receive frame (stream end?). Exiting ...\")\n",
    "        break\n",
    "\n",
    "    # Convert the frame to grayscale\n",
    "    gray = cv2.cvtColor(frame, cv2.COLOR_BGR2GRAY)\n",
    "\n",
    "    # Show the grayscale frame\n",
    "    # cv2.imshow('gray frame', gray)\n",
    "    \n",
    "    # Show the frame in color (BGR)\n",
    "    cv2.imshow('bgr frame', frame)\n",
    "\n",
    "    # If the 'q' key is pressed, break the loop and exit\n",
    "    if cv2.waitKey(1) & 0xFF == ord('q'):\n",
    "        break\n",
    "\n",
    "# Release the camera and destroy all windows\n",
    "cap.release()\n",
    "cv2.destroyAllWindows()\n"
   ]
  },
  {
   "attachments": {},
   "cell_type": "markdown",
   "metadata": {},
   "source": [
    "> Summary\n",
    "\n",
    "1. Import the cv2 module, which provides computer vision functions and video capturing capabilities.\n",
    "  \n",
    "1. Open the default camera (index 0) using ``cv2.VideoCapture(0)``.\n",
    "  \n",
    "1. Check if the camera was opened successfully using ``cap.isOpened()``. If it failed to open, print an error message and exit the program.\n",
    "  \n",
    "1. Retrieve the width and height of the captured frames using ``cap.get(cv2.CAP_PROP_FRAME_WIDTH)`` and ``cap.get(cv2.CAP_PROP_FRAME_HEIGHT)`` respectively.\n",
    "  \n",
    "1. Enter an infinite loop to continuously capture frames from the camera.\n",
    "  \n",
    "1. Read the current frame from the camera using ``cap.read()``. The ``ret`` variable indicates if the frame was read successfully, and the ``frame`` variable holds the actual frame data.\n",
    "  \n",
    "1. Convert the frame to grayscale using ``cv2.cvtColor(frame, cv2.COLOR_BGR2GRAY)``.\n",
    "  \n",
    "1. Show the grayscale frame using ``cv2.imshow('gray frame', gray)``. (This line is currently commented out.)"
   ]
  },
  {
   "attachments": {},
   "cell_type": "markdown",
   "metadata": {},
   "source": [
    "### Saving the video"
   ]
  },
  {
   "cell_type": "code",
   "execution_count": 8,
   "metadata": {},
   "outputs": [
    {
     "data": {
      "text/plain": [
       "'e:\\\\projects\\\\ML-Basics\\\\misc-notebooks\\\\opencv'"
      ]
     },
     "execution_count": 8,
     "metadata": {},
     "output_type": "execute_result"
    }
   ],
   "source": [
    "pwd()"
   ]
  },
  {
   "cell_type": "code",
   "execution_count": null,
   "metadata": {},
   "outputs": [],
   "source": []
  },
  {
   "cell_type": "code",
   "execution_count": 3,
   "metadata": {},
   "outputs": [],
   "source": [
    "import cv2\n",
    "\n",
    "# Open the video source\n",
    "cap = cv2.VideoCapture(0)  # Replace 0 with the appropriate video source (e.g., file path or camera index)\n",
    "\n",
    "# Get the video source properties\n",
    "width = int(cap.get(cv2.CAP_PROP_FRAME_WIDTH))\n",
    "height = int(cap.get(cv2.CAP_PROP_FRAME_HEIGHT))\n",
    "\n",
    "# Create the VideoWriter object\n",
    "writer = cv2.VideoWriter(\"saved/capturedGray.mp4\", cv2.VideoWriter_fourcc(*'X264'), 30, (width, height))\n",
    "\n",
    "while True:\n",
    "    # Read a frame from the video source\n",
    "    ret, frame = cap.read()\n",
    "\n",
    "    # Convert the frame to grayscale\n",
    "    gray = cv2.cvtColor(frame, cv2.COLOR_BGR2GRAY)\n",
    "\n",
    "    # Display the grayscale frame\n",
    "    cv2.imshow('Gray Frame', gray)\n",
    "\n",
    "    # Write the grayscale frame to the output video file\n",
    "    writer.write(gray)\n",
    "\n",
    "    # Check if the 'q' key is pressed to terminate the program\n",
    "    if cv2.waitKey(1) & 0xFF == ord('q'):\n",
    "        break\n",
    "\n",
    "# Release the VideoCapture and VideoWriter objects\n",
    "cap.release()\n",
    "writer.release()\n",
    "\n",
    "# Close all OpenCV windows\n",
    "cv2.destroyAllWindows()\n"
   ]
  },
  {
   "attachments": {},
   "cell_type": "markdown",
   "metadata": {},
   "source": [
    "FourCC is a 4-byte code used to specify the video codec. The list of available codes can be found in fourcc.org. It is platform dependent. The following codecs work fine for me.\n",
    "  \n",
    "* In Fedora: DIVX, XVID, MJPG, X264, WMV1, WMV2. (XVID is more preferable. MJPG results in high size video. X264 gives very small size video)\n",
    "* In Windows: DIVX (More to be tested and added)\n",
    "* In OSX: MJPG (.mp4), DIVX (.avi), X264 (.mkv).\n",
    "FourCC code is passed as `cv.VideoWriter_fourcc('M','J','P','G')or cv.VideoWriter_fourcc(*'MJPG')` for MJPG."
   ]
  },
  {
   "attachments": {},
   "cell_type": "markdown",
   "metadata": {},
   "source": [
    ">Summary: \n",
    "\n",
    "This line creates a VideoWriter object named writer. It takes three parameters:\n",
    "\n",
    "1. The first parameter is the output filename, specified as \"saved/capturedGray.mp4\". You can change the path and filename according to your requirements.\n",
    "1. The second parameter is the four-character code representing the codec used for video compression. In this case, ``cv2.VideoWriter_fourcc(*'X264')`` specifies the H.264 video codec. You can use different codecs based on your needs.\n",
    "1. The third parameter is the number of frames per second (FPS) for the output video. In this example, it is set to 30, but you can adjust it as per your requirements.\n",
    "After creating the VideoWriter object, you can use it to write frames to the video file by calling the ``write()`` method. For each frame, you need to convert it to grayscale before writing."
   ]
  }
 ],
 "metadata": {
  "kernelspec": {
   "display_name": "thesis",
   "language": "python",
   "name": "python3"
  },
  "language_info": {
   "codemirror_mode": {
    "name": "ipython",
    "version": 3
   },
   "file_extension": ".py",
   "mimetype": "text/x-python",
   "name": "python",
   "nbconvert_exporter": "python",
   "pygments_lexer": "ipython3",
   "version": "3.9.13"
  }
 },
 "nbformat": 4,
 "nbformat_minor": 4
}
